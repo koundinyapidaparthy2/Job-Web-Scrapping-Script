{
 "cells": [
  {
   "cell_type": "code",
   "execution_count": 43,
   "metadata": {},
   "outputs": [],
   "source": [
    "import pandas as pd\n"
   ]
  },
  {
   "cell_type": "code",
   "execution_count": 44,
   "metadata": {},
   "outputs": [],
   "source": [
    "Iphone15ProMax256GB = pd.read_csv('Iphone15ProMax256GBReviews.csv')\n",
    "SamsungS23Ultra256GBReviews = pd.read_csv('SamsungS23Ultra256GBReviews.csv')\n"
   ]
  },
  {
   "cell_type": "code",
   "execution_count": 45,
   "metadata": {},
   "outputs": [],
   "source": [
    "# AVG Rating\n",
    "AVG_Iphone15ProMax256GB = Iphone15ProMax256GB['Stars'].mean()\n",
    "AVG_SamsungS23Ultra256GBReviews = SamsungS23Ultra256GBReviews['Stars'].mean()\n",
    "\n",
    "# Filter reviews with stars greater than 4 for both products\n",
    "HIGH_RATED_Iphone15ProMax256GB = Iphone15ProMax256GB[Iphone15ProMax256GB['Stars'] > 4]\n",
    "HIGH_RATED_SamsungS23Ultra256GBReviews = SamsungS23Ultra256GBReviews[SamsungS23Ultra256GBReviews['Stars'] > 4]\n",
    "\n",
    "# Generate a comparative report based on high-rated reviews\n",
    "AVG_HIGH_RATED_Iphone15ProMax256GB = HIGH_RATED_Iphone15ProMax256GB['Stars'].mean()\n",
    "AVG_HIGH_RATED_SamsungS23Ultra256GBReviews = HIGH_RATED_SamsungS23Ultra256GBReviews['Stars'].mean()\n",
    "\n",
    "# Filter reviews with stars less than 2 for both products\n",
    "LOW_RATED_Iphone15ProMax256GB = Iphone15ProMax256GB[Iphone15ProMax256GB['Stars'] < 2]\n",
    "LOW_RATED_SamsungS23Ultra256GBReviews = SamsungS23Ultra256GBReviews[SamsungS23Ultra256GBReviews['Stars'] < 2]\n",
    "\n",
    "# Generate a comparative report based on low-rated reviews\n",
    "LOW_HIGH_RATED_Iphone15ProMax256GB = LOW_RATED_Iphone15ProMax256GB['Stars'].mean()\n",
    "LOW_HIGH_RATED_SamsungS23Ultra256GBReviews = LOW_RATED_SamsungS23Ultra256GBReviews['Stars'].mean()"
   ]
  },
  {
   "cell_type": "code",
   "execution_count": 46,
   "metadata": {},
   "outputs": [
    {
     "name": "stdout",
     "output_type": "stream",
     "text": [
      "\n",
      "Comparative Report:\n",
      "Iphone 15 pro max 256 is best mobile to choose\n",
      "\n",
      "Average comparision:\n",
      "Average Star Rating for Iphone15ProMax256GB:  4.60\n",
      "Average Star Rating for SamsungS23Ultra256GBReviews:  3.00\n",
      "\n",
      "High rated comparision:\n",
      "High Rated Average Star Rating for Iphone15ProMax256GB:  5.00\n",
      "High Rated Average Star Rating for SamsungS23Ultra256GBReviews:  5.00\n",
      "\n",
      "Low Rated comparision:\n",
      "Low Rated Average Star Rating for Iphone15ProMax256GB:  nan\n",
      "Low Rated Average Star Rating for SamsungS23Ultra256GBReviews:  1.00\n"
     ]
    }
   ],
   "source": [
    "print(\"\\nComparative Report:\")\n",
    "if(AVG_Iphone15ProMax256GB > AVG_SamsungS23Ultra256GBReviews):\n",
    "    print(f\"Iphone 15 pro max 256 is best mobile to choose\")\n",
    "\n",
    "if(AVG_SamsungS23Ultra256GBReviews > AVG_Iphone15ProMax256GB):\n",
    "    print(f\"Samsung Ultra 256 is best mobile to choose\")\n",
    "\n",
    "if(AVG_SamsungS23Ultra256GBReviews == AVG_Iphone15ProMax256GB):\n",
    "    print(f\"Samsung and Iphone having almost same level of rating \")\n",
    "\n",
    "\n",
    "# Avg rating comparision\n",
    "print(\"\\nAverage comparision:\")\n",
    "print(f\"Average Star Rating for Iphone15ProMax256GB: {AVG_Iphone15ProMax256GB: .2f}\")\n",
    "print(f\"Average Star Rating for SamsungS23Ultra256GBReviews: {AVG_SamsungS23Ultra256GBReviews: .2f}\")\n",
    "\n",
    "# High rated comparision\n",
    "print(\"\\nHigh rated comparision:\")\n",
    "print(f\"High Rated Average Star Rating for Iphone15ProMax256GB: {AVG_HIGH_RATED_Iphone15ProMax256GB: .2f}\")\n",
    "print(f\"High Rated Average Star Rating for SamsungS23Ultra256GBReviews: {AVG_HIGH_RATED_SamsungS23Ultra256GBReviews: .2f}\")\n",
    "\n",
    "\n",
    "# Low rated comparision\n",
    "\n",
    "print(\"\\nLow Rated comparision:\")\n",
    "print(f\"Low Rated Average Star Rating for Iphone15ProMax256GB: {LOW_HIGH_RATED_Iphone15ProMax256GB: .2f}\")\n",
    "print(f\"Low Rated Average Star Rating for SamsungS23Ultra256GBReviews: {LOW_HIGH_RATED_SamsungS23Ultra256GBReviews: .2f}\")"
   ]
  },
  {
   "cell_type": "code",
   "execution_count": null,
   "metadata": {},
   "outputs": [],
   "source": []
  }
 ],
 "metadata": {
  "kernelspec": {
   "display_name": "base",
   "language": "python",
   "name": "python3"
  },
  "language_info": {
   "codemirror_mode": {
    "name": "ipython",
    "version": 3
   },
   "file_extension": ".py",
   "mimetype": "text/x-python",
   "name": "python",
   "nbconvert_exporter": "python",
   "pygments_lexer": "ipython3",
   "version": "3.11.4"
  }
 },
 "nbformat": 4,
 "nbformat_minor": 2
}
