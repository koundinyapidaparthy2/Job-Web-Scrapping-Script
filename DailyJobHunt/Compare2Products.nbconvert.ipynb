{
 "cells": [
  {
   "cell_type": "code",
   "execution_count": 1,
   "metadata": {
    "execution": {
     "iopub.execute_input": "2024-05-07T18:00:26.253945Z",
     "iopub.status.busy": "2024-05-07T18:00:26.252919Z",
     "iopub.status.idle": "2024-05-07T18:00:31.497412Z",
     "shell.execute_reply": "2024-05-07T18:00:31.496401Z"
    }
   },
   "outputs": [
    {
     "name": "stderr",
     "output_type": "stream",
     "text": [
      "C:\\Users\\kp\\AppData\\Local\\Temp\\ipykernel_37188\\1098827561.py:3: DeprecationWarning: \n",
      "Pyarrow will become a required dependency of pandas in the next major release of pandas (pandas 3.0),\n",
      "(to allow more performant data types, such as the Arrow string type, and better interoperability with other libraries)\n",
      "but was not found to be installed on your system.\n",
      "If this would cause problems for you,\n",
      "please provide us feedback at https://github.com/pandas-dev/pandas/issues/54466\n",
      "        \n",
      "  import pandas as pd\n"
     ]
    },
    {
     "name": "stdout",
     "output_type": "stream",
     "text": [
      "packages loaded\n"
     ]
    }
   ],
   "source": [
    "# Import packages\n",
    "import requests\n",
    "import pandas as pd\n",
    "import shutil\n",
    "from pydrive.auth import GoogleAuth\n",
    "from pydrive.drive import GoogleDrive\n",
    "from bs4 import BeautifulSoup\n",
    "from datetime import datetime\n",
    "from openpyxl import Workbook, load_workbook\n",
    "from openpyxl.utils import get_column_letter\n",
    "from openpyxl.styles import Alignment\n",
    "\n",
    "\n",
    "print('packages loaded')"
   ]
  },
  {
   "cell_type": "code",
   "execution_count": 2,
   "metadata": {
    "execution": {
     "iopub.execute_input": "2024-05-07T18:00:31.502461Z",
     "iopub.status.busy": "2024-05-07T18:00:31.502461Z",
     "iopub.status.idle": "2024-05-07T18:00:31.509797Z",
     "shell.execute_reply": "2024-05-07T18:00:31.508760Z"
    }
   },
   "outputs": [
    {
     "name": "stdout",
     "output_type": "stream",
     "text": [
      "headers loaded\n"
     ]
    }
   ],
   "source": [
    "# Header to set the requests as a browser requests\n",
    "headers = {\n",
    "    'accept': 'text/html,application/xhtml+xml,application/xml;q=0.9,image/avif,image/webp,image/apng,*/*;q=0.8,application/signed-exchange;v=b3;q=0.9',\n",
    "    'accept-language': 'en-US,en;q=0.9',\n",
    "    'user-agent': 'Mozilla/5.0 (Windows NT 10.0; Win64; x64) AppleWebKit/537.36 (KHTML, like Gecko) Chrome/102.0.0.0 Safari/537.36'\n",
    "}\n",
    "\n",
    "print('headers loaded')"
   ]
  },
  {
   "cell_type": "code",
   "execution_count": 3,
   "metadata": {
    "execution": {
     "iopub.execute_input": "2024-05-07T18:00:31.515640Z",
     "iopub.status.busy": "2024-05-07T18:00:31.514602Z",
     "iopub.status.idle": "2024-05-07T18:00:31.522375Z",
     "shell.execute_reply": "2024-05-07T18:00:31.521839Z"
    }
   },
   "outputs": [
    {
     "name": "stdout",
     "output_type": "stream",
     "text": [
      "query details loaded\n"
     ]
    }
   ],
   "source": [
    "\n",
    "Test = 'https://careerservices.pace.edu/jobs/page/18/?ctag%5B0%5D=part-time&ctag%5B1%5D=internships&stag%5B0%5D=it-systems-support-cybersecurity&stag%5B1%5D=product-management-us-ui-research-design-technology-consulting&stag%5B2%5D=software-engineering-web-development-game-design&stag%5B3%5D=achieve-and-announce&stag%5B4%5D=connect-with-employers&stag%5B5%5D=grow-your-network&stag%5B6%5D=on-campus-employment&stag%5B7%5D=pace-funded-internships&stag%5B8%5D=search-for-internships-jobs&stag%5B9%5D=unleash-your-inner-professional&sort=date'\n",
    "\n",
    "base_url = 'https://careerservices.pace.edu/jobs/page/{}'\n",
    "\n",
    "start_page_number = 1\n",
    "end_page_number = 100\n",
    "ctags = ['part-time', 'internships','full-time']\n",
    "stags = ['it-systems-support-cybersecurity', 'product-management-us-ui-research-design-technology-consulting', 'software-engineering-web-development-game-design', 'achieve-and-announce', 'connect-with-employers', 'grow-your-network', 'on-campus-employment', 'pace-funded-internships', 'search-for-internships-jobs', 'unleash-your-inner-professional']\n",
    "sort_by = 'date'\n",
    "\n",
    "\n",
    "\n",
    "print('query details loaded')"
   ]
  },
  {
   "cell_type": "code",
   "execution_count": 4,
   "metadata": {
    "execution": {
     "iopub.execute_input": "2024-05-07T18:00:31.528562Z",
     "iopub.status.busy": "2024-05-07T18:00:31.527585Z",
     "iopub.status.idle": "2024-05-07T18:00:31.542217Z",
     "shell.execute_reply": "2024-05-07T18:00:31.541199Z"
    }
   },
   "outputs": [
    {
     "name": "stdout",
     "output_type": "stream",
     "text": [
      "function loaded\n"
     ]
    }
   ],
   "source": [
    "def convertJobsDataToArray(listOfJobs):\n",
    "    data_dicts = []\n",
    "    if listOfJobs:\n",
    "        for job in listOfJobs:\n",
    "            if job:\n",
    "                # Elements\n",
    "                titleElement = job.select_one(\"[rel='bookmark']\")\n",
    "                descElementWrapper = job.select_one(\"[class='entry-content']\")\n",
    "                companyElement = job.select_one(\"[class='company_name']\")\n",
    "                partOrFullTimeElement = job.select(\"[class='entry-meta-item']\")\n",
    "                # Variables\n",
    "                jobTitle = ''\n",
    "                jobUrl = ''\n",
    "                jobDesc = ''\n",
    "                companyName = ''\n",
    "                partOrFullTime = ''\n",
    "                # Logic\n",
    "                if companyElement:\n",
    "                    companyName = companyElement.text.strip()\n",
    "                if titleElement:\n",
    "                    jobTitle = titleElement.text.strip()\n",
    "                    jobUrl = titleElement.get(\"href\")\n",
    "                if descElementWrapper:\n",
    "                    paraGraphDescElement = descElementWrapper.find('p')\n",
    "                    if paraGraphDescElement:\n",
    "                        jobDesc = paraGraphDescElement.text.strip()\n",
    "                if partOrFullTimeElement:\n",
    "                    spanElementsListPartOrFullTime = partOrFullTimeElement[2]\n",
    "                    if spanElementsListPartOrFullTime:\n",
    "                        currentSpanElementsListPartOrFullTime = spanElementsListPartOrFullTime.find_all('span')\n",
    "                        if currentSpanElementsListPartOrFullTime:\n",
    "                            partOrFullTimeValue = currentSpanElementsListPartOrFullTime[1]\n",
    "                            if partOrFullTimeValue:\n",
    "                                partOrFullTime = partOrFullTimeValue.text.strip()\n",
    "                if jobTitle:\n",
    "                    defaultJobPath = 'https://careerservices.pace.edu/jobs/'\n",
    "                    data_dict = {\n",
    "                        'Title' : jobTitle,\n",
    "                        'Company' : companyName,\n",
    "                        'JobId' : jobUrl.split(defaultJobPath)[1],\n",
    "                        'PartOrFullTime': partOrFullTime,\n",
    "                        'url':jobUrl,\n",
    "                        'Description' : jobDesc\n",
    "                    }\n",
    "\n",
    "                    # Add Dictionary in master empty List\n",
    "                    data_dicts.append(data_dict)\n",
    "                    \n",
    "    return data_dicts\n",
    "print('function loaded')   "
   ]
  },
  {
   "cell_type": "code",
   "execution_count": 5,
   "metadata": {
    "execution": {
     "iopub.execute_input": "2024-05-07T18:00:31.547326Z",
     "iopub.status.busy": "2024-05-07T18:00:31.546320Z",
     "iopub.status.idle": "2024-05-07T18:01:31.262140Z",
     "shell.execute_reply": "2024-05-07T18:01:31.259836Z"
    }
   },
   "outputs": [
    {
     "name": "stdout",
     "output_type": "stream",
     "text": [
      "final details recieved loaded\n"
     ]
    }
   ],
   "source": [
    "finalArrayList = []\n",
    "for i in range(start_page_number, end_page_number):\n",
    "        query_string = f'{base_url.format(i)}/?' +'&'.join([f'ctag%5B{i}%5D={tag}' for i, tag in enumerate(ctags)]) + '&'  + '&'.join([f'stag%5B{i}%5D={tag}' for i, tag in enumerate(stags)]) + f'&sort={sort_by}'\n",
    "        \n",
    "        response = requests.get(query_string, headers=headers)\n",
    "        soup = BeautifulSoup(response.text, 'html.parser')\n",
    "        jobsWrapper = soup.select('div[id=\"featured-jobs-list\"]')\n",
    "        if jobsWrapper:\n",
    "                currentJobsWrapperIndex = jobsWrapper[0]\n",
    "                if currentJobsWrapperIndex:\n",
    "                        listOfJobs = currentJobsWrapperIndex.select('.featured_job')\n",
    "                        if listOfJobs:\n",
    "                                jobList = convertJobsDataToArray(listOfJobs)\n",
    "                                finalArrayList += jobList\n",
    "        else:\n",
    "                break\n",
    "print('final details recieved loaded')"
   ]
  },
  {
   "cell_type": "code",
   "execution_count": 6,
   "metadata": {
    "execution": {
     "iopub.execute_input": "2024-05-07T18:01:31.267163Z",
     "iopub.status.busy": "2024-05-07T18:01:31.266166Z",
     "iopub.status.idle": "2024-05-07T18:01:50.872896Z",
     "shell.execute_reply": "2024-05-07T18:01:50.872362Z"
    }
   },
   "outputs": [],
   "source": [
    "df = pd.DataFrame(finalArrayList)\n",
    "\n",
    "current_datetime = datetime.now().strftime(\"%Y-%m-%d_%H-%M\")\n",
    "filename = f'jobs_list.xlsx'\n",
    "save_path = 'C:/Users/kp/Desktop/AmazonWebScraping-main/DailyJobHunt/' + filename\n",
    "\n",
    "try:\n",
    "    wb = load_workbook(filename)\n",
    "except FileNotFoundError:\n",
    "    # If the file doesn't exist, create a new workbook\n",
    "    wb = Workbook()\n",
    "\n",
    "if current_datetime in wb.sheetnames:\n",
    "        print(f\"Sheet with title '{current_datetime}' already exists in the Excel file.\")\n",
    "else:\n",
    "        # Otherwise, create a new sheet with the current datetime\n",
    "        ws = wb.create_sheet(title=current_datetime)\n",
    "        headers = list(df.columns)\n",
    "        ws.append(headers)\n",
    "        for index, row in df.iterrows():\n",
    "            ws.append(row.tolist())\n",
    "        for row_index in range(1, len(headers) + 1):\n",
    "            column_letter = get_column_letter(row_index)\n",
    "            ws.column_dimensions[column_letter].width = max(len(str(header)) for header in headers)  \n",
    "        for row_index in range(2, ws.max_row + 1):  \n",
    "            ws.cell(row=row_index, column=3).hyperlink = ws.cell(row=row_index, column=5).value\n",
    "        ws.auto_filter.ref = ws.dimensions\n",
    "        wb.save(filename)\n",
    "        shutil.move(filename, save_path)"
   ]
  }
 ],
 "metadata": {
  "kernelspec": {
   "display_name": "base",
   "language": "python",
   "name": "python3"
  },
  "language_info": {
   "codemirror_mode": {
    "name": "ipython",
    "version": 3
   },
   "file_extension": ".py",
   "mimetype": "text/x-python",
   "name": "python",
   "nbconvert_exporter": "python",
   "pygments_lexer": "ipython3",
   "version": "3.11.5"
  }
 },
 "nbformat": 4,
 "nbformat_minor": 2
}
